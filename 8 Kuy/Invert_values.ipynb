{
  "nbformat": 4,
  "nbformat_minor": 0,
  "metadata": {
    "colab": {
      "provenance": [],
      "authorship_tag": "ABX9TyMssRLCk+xOQezVjKAUxq94"
    },
    "kernelspec": {
      "name": "python3",
      "display_name": "Python 3"
    },
    "language_info": {
      "name": "python"
    }
  },
  "cells": [
    {
      "cell_type": "code",
      "execution_count": null,
      "metadata": {
        "id": "dyBPRtB5YA8c"
      },
      "outputs": [],
      "source": [
        "def invert(lst):\n",
        "    changed_list = []\n",
        "    for i in range(len(lst)):\n",
        "        changed_list.append(lst[i]*(-1))\n",
        "    return changed_list"
      ]
    }
  ]
}