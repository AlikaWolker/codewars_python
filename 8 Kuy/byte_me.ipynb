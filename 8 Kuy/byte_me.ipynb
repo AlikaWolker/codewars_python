{
  "nbformat": 4,
  "nbformat_minor": 0,
  "metadata": {
    "colab": {
      "provenance": [],
      "authorship_tag": "ABX9TyNle1/5vfLSBf3aCuOZJ9oI"
    },
    "kernelspec": {
      "name": "python3",
      "display_name": "Python 3"
    },
    "language_info": {
      "name": "python"
    }
  },
  "cells": [
    {
      "cell_type": "code",
      "execution_count": null,
      "metadata": {
        "id": "jiTDHNV_WjEr"
      },
      "outputs": [],
      "source": [
        "import sys\n",
        "def total_bytes(object):\n",
        "    return sys.getsizeof(object)"
      ]
    }
  ]
}