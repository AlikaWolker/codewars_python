{
  "nbformat": 4,
  "nbformat_minor": 0,
  "metadata": {
    "colab": {
      "provenance": [],
      "include_colab_link": true
    },
    "kernelspec": {
      "name": "python3",
      "display_name": "Python 3"
    },
    "language_info": {
      "name": "python"
    }
  },
  "cells": [
    {
      "cell_type": "markdown",
      "metadata": {
        "id": "view-in-github",
        "colab_type": "text"
      },
      "source": [
        "<a href=\"https://colab.research.google.com/github/AlikaWolker/codewars_python/blob/main/8%20Kuy/Draw_stairs.ipynb\" target=\"_parent\"><img src=\"https://colab.research.google.com/assets/colab-badge.svg\" alt=\"Open In Colab\"/></a>"
      ]
    },
    {
      "cell_type": "code",
      "execution_count": 28,
      "metadata": {
        "id": "dyBPRtB5YA8c"
      },
      "outputs": [],
      "source": [
        "def draw_stairs(n):\n",
        "    stairs = []\n",
        "    for i in range(n):\n",
        "        stair = \"I\"\n",
        "        # stairs.append(str(i))\n",
        "        if i != n-1:\n",
        "            stair += '\\n'\n",
        "            # stairs.append('\\n')\n",
        "            for j in range(i+1):\n",
        "                stair += ' '\n",
        "                # stairs.append(' ')\n",
        "        stairs.append(stair)\n",
        "    return  ''.join(stairs)"
      ]
    },
    {
      "cell_type": "code",
      "source": [
        "draw_stairs(7)"
      ],
      "metadata": {
        "colab": {
          "base_uri": "https://localhost:8080/"
        },
        "id": "zdAxfeVjflj6",
        "outputId": "70be4399-4a5d-4a3f-cd51-66e2f7ee22d9"
      },
      "execution_count": 29,
      "outputs": [
        {
          "output_type": "stream",
          "name": "stdout",
          "text": [
            "0\n",
            " 1\n",
            "  2\n",
            "   3\n",
            "    4\n",
            "     5\n",
            "      67\n",
            "        \n"
          ]
        }
      ]
    }
  ]
}