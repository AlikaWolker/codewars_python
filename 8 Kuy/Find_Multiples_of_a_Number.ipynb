{
  "nbformat": 4,
  "nbformat_minor": 0,
  "metadata": {
    "colab": {
      "provenance": [],
      "authorship_tag": "ABX9TyPDSMRpBOu5a79yi5E0Yw4C"
    },
    "kernelspec": {
      "name": "python3",
      "display_name": "Python 3"
    },
    "language_info": {
      "name": "python"
    }
  },
  "cells": [
    {
      "cell_type": "code",
      "execution_count": null,
      "metadata": {
        "id": "dyBPRtB5YA8c"
      },
      "outputs": [],
      "source": [
        "def find_multiples(integer, limit):\n",
        "    multiples = []\n",
        "    n = 1\n",
        "    last_element = 0 \n",
        "    while last_element <= limit:\n",
        "        multiples.append(n*integer)\n",
        "        n = n + 1\n",
        "        last_element = n*integer        \n",
        "    return multiples"
      ]
    }
  ]
}