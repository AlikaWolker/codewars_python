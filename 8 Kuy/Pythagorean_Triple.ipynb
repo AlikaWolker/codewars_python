{
  "nbformat": 4,
  "nbformat_minor": 0,
  "metadata": {
    "colab": {
      "provenance": [],
      "authorship_tag": "ABX9TyOVW9lMBWhlWB/xoT5vQuPe"
    },
    "kernelspec": {
      "name": "python3",
      "display_name": "Python 3"
    },
    "language_info": {
      "name": "python"
    }
  },
  "cells": [
    {
      "cell_type": "code",
      "execution_count": null,
      "metadata": {
        "id": "iLT3QTW9VsNT"
      },
      "outputs": [],
      "source": [
        "def pythagorean_triple(integers):\n",
        "    integers.sort()\n",
        "    a = integers[0]\n",
        "    b = integers[1]\n",
        "    c = integers[2]\n",
        "    if (c^2 != (a^2+b^2)):\n",
        "        return False \n",
        "    else:\n",
        "        return True"
      ]
    }
  ]
}