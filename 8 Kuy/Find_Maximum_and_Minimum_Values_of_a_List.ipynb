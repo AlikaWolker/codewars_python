{
  "nbformat": 4,
  "nbformat_minor": 0,
  "metadata": {
    "colab": {
      "provenance": [],
      "authorship_tag": "ABX9TyNB9Ko/lSt4dFMH1kIdAF23"
    },
    "kernelspec": {
      "name": "python3",
      "display_name": "Python 3"
    },
    "language_info": {
      "name": "python"
    }
  },
  "cells": [
    {
      "cell_type": "code",
      "execution_count": null,
      "metadata": {
        "id": "XJNJTCrVWOgG"
      },
      "outputs": [],
      "source": [
        "def minimum(arr):\n",
        "    compare_number = arr[0]\n",
        "    for i in arr:\n",
        "        if compare_number > i:\n",
        "            compare_number = i\n",
        "    return compare_number\n",
        "        \n",
        "\n",
        "def maximum(arr):\n",
        "    compare_number = arr[0]\n",
        "    for i in arr:\n",
        "        if compare_number < i:\n",
        "            compare_number = i\n",
        "    return compare_number"
      ]
    }
  ]
}